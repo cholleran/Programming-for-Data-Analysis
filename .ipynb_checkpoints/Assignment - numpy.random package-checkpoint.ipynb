{
 "cells": [
  {
   "cell_type": "markdown",
   "metadata": {},
   "source": [
    "\n",
    "## Tasks:\n",
    "\n",
    "1. Explain purpose of package\n",
    "2. Explain the purpose of the \"simple random data\" and \"permutations\" functions\n",
    "3. Explain the purpose and use of at least five \"Distributions\" functions\n",
    "4. Explain the use of seeds in generating pseudorandom numbers\n",
    "\n",
    "https://www.sciencedaily.com/releases/2005/04/050427094258.htm"
   ]
  },
  {
   "cell_type": "markdown",
   "metadata": {},
   "source": []
  },
  {
   "cell_type": "markdown",
   "metadata": {},
   "source": [
    "# 1. Explain the Purpose of the Package\n",
    "\n",
    "The numpy.random package provides a wide variety of options for generating pseudorandom numbers.  Pseudorandom numbers are not truly random because numpy uses a built-in 'methodology' for creating random numbers. One way random numbers can be created is by using a seed. For example, the seed could be a starting point within the random sequence of the number Pi which has been shown scientifically to have no order. Using a seed is artificially random, since if we know the starting point in the Pi sequence the number could be predicted. Scientists have used computers to look through 200 billion digits after the decimal point in the number Pi without finding any pattern 1.(Purdue University, 2005)."
   ]
  },
  {
   "cell_type": "markdown",
   "metadata": {},
   "source": [
    "# 2. Explain the purpose of the \"simple random data\" and \"permutations\" functions\n",
    "\n"
   ]
  },
  {
   "cell_type": "markdown",
   "metadata": {},
   "source": [
    "Simple random data functions enable us to simulate problems relating to probability by providing mock data that we can used to artificially test hypotheses. For example, random.randint method could be used to simulate the roll of a die.\n",
    "\n",
    "Ex.1 below uses the random library's 'randint' method to generate random integers between 1 & 6, simulating a die roll."
   ]
  },
  {
   "cell_type": "code",
   "execution_count": 51,
   "metadata": {},
   "outputs": [
    {
     "name": "stdout",
     "output_type": "stream",
     "text": [
      "[3 3 4 1 1 6 5 3 2 3 1 3 5 3 1 2 3 1 6 2 3 2 6 2 5 4 4 2 1 2 1 4 4 6 2 2 5\n",
      " 4 2 1 3 1 4 2 6 2 4 4 5 4 2 5 3 4 2 4 6 6 4 5 5 3 5 1 2 1 6 1 3 6 3 2 3 5\n",
      " 1 3 3 6 3 1 6 3 1 6 4 2 6 6 4 5 6 6 1 5 4 2 5 1 3 3 3 1 2 6 3 3 3 5 3 5 4\n",
      " 1 2 1 4 5 5 5 3 5 3 3 3 2 3 5 5 6 3 4 4 2 2 3 5 5 3 6 1 2 4 1 6 6 6 4 3 2\n",
      " 6 6 5 1 1 2 5 6 2 5 4 3 2 3 6 2 3 5 3 6 6 2 3 6 1 3 6 1 5 1 6 3 4 6 6 5 2\n",
      " 5 3 2 4 6 2 5 3 4 2 6 3 3 5 5 3 4 3 4 3 1 5 6 6 5 1 3 2 1 2 1 6 3 3 3 4 2\n",
      " 5 1 2 4 3 4 5 5 5 4 3 6 2 3 2 4 1 2 6 4 1 5 5 2 5 6 2 4 5 1 5 2 2 6 3 1 5\n",
      " 4 3 5 2 5 1 5 5 1 2 6 6 4 5 5 6 1 1 6 6 3 1 1 2 5 3 3 2 6 4 4 4 3 3 6 6 2\n",
      " 1 4 2 4 2 3 1 3 3 5 4 3 2 3 2 4 3 4 2 3 3 5 3 1 1 5 2 4 4 3 2 4 4 3 3 3 5\n",
      " 5 3 3 6 3 2 5 3 4 2 2 4 5 3 2 6 6 1 1 2 6 4 1 1 2 6 6 4 4 3 2 2 3 3 4 2 6\n",
      " 6 4 1 1 1 6 2 5 2 1 5 3 5 3 5 1 3 4 3 6 2 1 2 3 5 3 3 2 5 3 4 2 4 5 1 3 6\n",
      " 2 5 4 5 3 2 2 1 1 2 2 6 5 1 5 5 3 1 3 2 4 6 3 2 5 2 4 5 6 1 4 5 6 4 3 3 3\n",
      " 4 1 1 6 2 6 3 1 3 2 6 3 3 1 2 3 5 5 4 4 5 5 2 6 1 4 4 4 2 3 5 3 6 2 6 6 5\n",
      " 3 6 3 5 1 5 2 4 2 5 2 6 5 2 5 6 1 1 3 2 1 5 6 1 3 2 4 1 2 2 6 3 4 2 1 3 6\n",
      " 3 5 1 6 2 3 6 6 4 1 4 5 6 1 2 4 4 6 1 3 4 2 2 4 5 4 2 3 1 6 6 5 5 1 5 2 6\n",
      " 3 4 3 5 4 4 6 1 4 4 5 5 3 1 4 5 4 5 5 2 6 2 3 5 1 2 6 2 4 5 4 3 3 1 6 1 3\n",
      " 3 1 4 4 5 2 3 6 2 2 1 5 3 2 1 3 3 2 1 2 2 2 2 3 4 6 4 1 4 2 3 3 3 2 6 6 1\n",
      " 2 1 1 5 1 6 1 5 1 6 4 2 1 6 5 4 5 6 3 1 1 1 4 4 3 5 1 6 1 6 1 4 1 6 6 1 6\n",
      " 1 2 4 3 3 3 5 3 6 1 2 4 6 1 6 6 4 3 6 6 2 6 3 5 5 4 2 3 5 2 6 1 5 5 3 5 5\n",
      " 3 6 6 1 5 1 4 6 5 5 1 1 4 5 2 6 3 4 3 6 5 1 5 4 2 4 2 5 6 2 2 3 1 5 4 5 6\n",
      " 2 2 1 4 6 2 5 3 1 6 6 5 2 1 1 1 3 2 5 5 2 3 3 6 2 3 6 6 2 3 4 4 1 5 4 4 2\n",
      " 6 4 3 3 6 1 6 6 3 2 1 3 5 4 3 6 6 3 4 3 2 3 3 4 5 3 5 6 5 3 1 1 6 5 2 5 2\n",
      " 5 6 3 2 3 3 2 4 3 5 5 3 5 4 4 3 4 1 3 6 3 4 1 3 3 3 1 5 6 3 6 3 4 6 1 6 3\n",
      " 2 4 1 5 2 1 4 1 5 6 1 6 2 6 4 1 3 6 1 6 3 2 3 6 3 2 3 4 5 2 6 6 3 6 3 2 1\n",
      " 5 6 4 3 2 5 6 6 2 3 6 4 2 3 2 2 3 4 2 4 4 3 6 2 6 4 4 3 2 6 4 5 2 6 4 1 1\n",
      " 3 1 1 3 3 4 2 4 4 1 1 1 4 6 4 1 3 2 6 5 1 4 2 2 6 3 1 2 4 5 6 4 2 5 5 4 1\n",
      " 6 3 4 6 5 1 4 2 6 6 5 6 2 6 3 5 5 1 3 5 4 5 1 3 1 6 5 2 3 6 4 6 2 6 5 3 1\n",
      " 4]\n",
      "{'1': 152, '2': 169, '3': 201, '4': 151, '5': 158, '6': 169}\n"
     ]
    }
   ],
   "source": [
    "import numpy as np #Ex.1\n",
    "import matplotlib.pyplot as plt\n",
    "\n",
    "dice = np.random.randint(1,7,size=1000) # 1,000 pseudorandom outcomes of a die roll are assigned to dice\n",
    "outcomes = (str(dice))\n",
    "poss = {'1':0,'2':0,'3':0,'4':0,'5':0,'6':0} # created dictionary to store outcomes for each die roll\n",
    "\n",
    "for item in outcomes:\n",
    "    for key in poss:# used for loops to iterate over the random die rolls created by randint\n",
    "        if item == key:\n",
    "            poss[key] += 1 # added to the dictionary values\n",
    "\n",
    "print(dice) # the numpy array below contains the simulated die rolls\n",
    "print(poss) # the dictionary containing sum of outcomes for 1-6"
   ]
  },
  {
   "cell_type": "code",
   "execution_count": 52,
   "metadata": {},
   "outputs": [
    {
     "data": {
      "image/png": "[encoded data removed]",
      "text/plain": [
       "<Figure size 432x288 with 1 Axes>"
      ]
     },
     "metadata": {},
     "output_type": "display_data"
    }
   ],
   "source": [
    "name = ['one','two','three','four','five','six']\n",
    "\n",
    "values = list(poss.values())\n",
    "plt.xlabel('possible outcomes')\n",
    "plt.ylabel('no.of times')\n",
    "\n",
    "plt.bar(range(len(poss)),values,tick_label=name)\n",
    "plt.show()"
   ]
  },
  {
   "cell_type": "code",
   "execution_count": 21,
   "metadata": {},
   "outputs": [],
   "source": [
    "import numpy as np\n"
   ]
  },
  {
   "cell_type": "code",
   "execution_count": 10,
   "metadata": {},
   "outputs": [],
   "source": [
    "import matplotlib.pyplot as plt"
   ]
  },
  {
   "cell_type": "code",
   "execution_count": 11,
   "metadata": {},
   "outputs": [],
   "source": [
    "x = (np.random.random_sample((20)))\n",
    "# creates a one-dimensional array (1 row) of 20 random numbers between 0-1"
   ]
  },
  {
   "cell_type": "code",
   "execution_count": 12,
   "metadata": {},
   "outputs": [
    {
     "data": {
      "image/png": "[encoded data removed]",
      "text/plain": [
       "<Figure size 432x288 with 1 Axes>"
      ]
     },
     "metadata": {},
     "output_type": "display_data"
    }
   ],
   "source": [
    "plt.hist(x,bins=10)\n",
    "plt.show()"
   ]
  },
  {
   "cell_type": "code",
   "execution_count": null,
   "metadata": {},
   "outputs": [],
   "source": []
  }
 ],
 "metadata": {
  "kernelspec": {
   "display_name": "Python 3",
   "language": "python",
   "name": "python3"
  },
  "language_info": {
   "codemirror_mode": {
    "name": "ipython",
    "version": 3
   },
   "file_extension": ".py",
   "mimetype": "text/x-python",
   "name": "python",
   "nbconvert_exporter": "python",
   "pygments_lexer": "ipython3",
   "version": "3.6.5"
  }
 },
 "nbformat": 4,
 "nbformat_minor": 2
}
