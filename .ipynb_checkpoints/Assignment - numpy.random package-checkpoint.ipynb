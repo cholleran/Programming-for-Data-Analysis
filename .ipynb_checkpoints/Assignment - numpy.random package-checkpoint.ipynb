{
 "cells": [
  {
   "cell_type": "markdown",
   "metadata": {},
   "source": [
    "\n",
    "## Tasks:\n",
    "\n",
    "1. Explain purpose of package\n",
    "2. Explain the purpose of the \"simple random data\" and \"permutations\" functions\n",
    "3. Explain the purpose and use of at least five \"Distributions\" functions\n",
    "4. Explain the use of seeds in generating pseudorandom numbers\n",
    "\n",
    "\n",
    "\n",
    "1.  https://docs.scipy.org/doc/numpy/reference/generated/numpy.random.rand.html#numpy.random.rand\n",
    "\n",
    "2.  http://www.numpy.org/\n",
    "\n",
    "3. Mcloughlin I, 2018, Programming for Data Analysis: Video Series\n",
    "\n",
    "\n",
    "\n",
    "4.  https://www.sciencedaily.com/releases/2005/04/050427094258.htm\n",
    "\n",
    "\n",
    "5.  https://math.stackexchange.com/questions/11415/chance-on-throwing-a-six-with-6-dice\n",
    "\n",
    "6.  https://www.statcan.gc.ca/edu/power-pouvoir/ch12/5214891-eng.htm\n",
    "\n",
    "https://www.dezyre.com/data-science-in-python-tutorial/matplotlib-tutorial\n",
    "\n",
    "8. https://docs.microsoft.com/en-us/dotnet/visual-basic/programming-guide/language-features/arrays/array-dimensions\n",
    "\n",
    "9. https://www.programiz.com/cpp-programming/multidimensional-arrays\n",
    "\n",
    "10. http://mathworld.wolfram.com/Factorial.html\n",
    "\n",
    "11. https://www.mathsisfun.com/combinatorics/combinations-permutations.html\n",
    "\n",
    "12. https://docs.scipy.org/doc/numpy/reference/generated/numpy.random.geometric.html#numpy.random.geometric\n",
    "\n",
    "13.    https://courses.lumenlearning.com/introstats1/chapter/the-exponential-distribution/\n",
    "\n",
    "14. https://www.statisticshowto.datasciencecentral.com/pareto-principle-the-8020-rule/\n",
    "\n",
    "https://stattrek.com/probability/combinations-permutations.aspx"
   ]
  },
  {
   "cell_type": "markdown",
   "metadata": {},
   "source": []
  },
  {
   "cell_type": "markdown",
   "metadata": {},
   "source": [
    "# 1. Explain the Purpose of the Package\n",
    "\n",
    "The 'random' package in numpy allows the user to create and control the shape and distribution of arrays containing random data.  The shape of an array is the number of rows and columns given as parameters. For example, random.rand() lets us choose the shape of the array of random data to generate. The example np.random.rand(3,2) given in the numpy documentation creates 3 rows and 2 columns of random data [1]. numpy.random also provides a variety of methods to control the distribution of random data e.g. uniform or normal distribution among others [2.].\n",
    "\n",
    "\n",
    "Pseudorandom data can be used to model solutions to real-world problems by simulating the conditions of the problem using mock data and use the random data as a model to experiment on with the aim of finding a solution [3].  Examples of this were seen in the simulation of the Monty Hall problem and Lady Tasting tea investigation. For example, random.choice() was used to simulate the random choice of which door the car would appear behind in the Monty Hall game [3].\n",
    "\n"
   ]
  },
  {
   "cell_type": "markdown",
   "metadata": {},
   "source": [
    "# 2. Explain the purpose of the \"simple random data\" and \"permutations\" functions\n",
    "\n"
   ]
  },
  {
   "cell_type": "markdown",
   "metadata": {},
   "source": [
    "### Simple random data functions \n",
    "\n",
    "These enable us to simulate problems relating to probability by providing mock data that we can use to artificially test hypotheses. For example, random.randint method could be used to simulate the roll of a die.\n",
    "\n",
    "Ex.1 below uses the random library's 'randint' method to generate random integers between 1 & 6, simulating a die roll. This can be done on scale by using the 'size=' keyword parameter to generate a large random number array. I then wrote a for loop to iterate over the array and add the result of each die roll to a dictionary."
   ]
  },
  {
   "cell_type": "code",
   "execution_count": 1,
   "metadata": {},
   "outputs": [
    {
     "name": "stdout",
     "output_type": "stream",
     "text": [
      "[4 6 1 1 5 3 1 5 2 6 4 3 1 4 6 3 2 5 6 5 6 3 3 5 2 6 3 2 1 3 5 2 4 3 2 3 6\n",
      " 1 6 4 5 4 3 5 2 6 4 5 2 2 3 5 5 2 2 3 1 5 5 3 4 6 4 3 1 5 1 4 1 6 5 6 5 5\n",
      " 6 2 6 2 1 3 2 6 5 5 2 4 5 3 4 3 1 2 1 2 3 4 2 4 5 6 3 4 1 4 2 5 3 6 1 3 2\n",
      " 4 2 4 1 1 5 5 1 4 4 2 5 1 2 3 6 1 1 4 3 6 5 6 5 4 6 4 1 4 4 3 4 1 6 5 1 6\n",
      " 2 6 2 4 1 1 3 5 2 1 3 1 5 1 4 1 5 1 3 5 4 6 2 6 5 3 4 1 6 1 1 3 1 2 1 5 6\n",
      " 2 3 3 2 3 2 5 6 1 5 4 1 2 1 4 2 4 5 6 6 3 1 2 2 5 5 5 6 2 2 6 2 1 4 2 5 1\n",
      " 4 6 2 3 1 6 4 4 6 1 4 3 5 2 2 5 3 5 3 4 1 3 2 2 4 1 5 4 1 1 4 5 3 4 6 4 4\n",
      " 6 6 2 5 4 5 1 1 4 6 3 2 4 6 2 1 4 1 1 3 4 4 1 4 4 2 6 2 2 3 5 6 5 4 1 2 3\n",
      " 6 1 3 3 1 5 6 3 3 6 3 1 2 3 3 4 1 2 2 6 6 3 3 3 5 1 6 6 2 4 3 5 4 6 5 1 5\n",
      " 4 5 3 2 5 3 6 5 1 3 6 6 5 3 6 6 3 1 3 5 1 2 1 2 2 1 4 2 4 3 2 3 4 5 2 1 3\n",
      " 6 2 3 3 6 2 6 3 2 5 6 4 4 2 3 6 6 6 1 2 5 1 1 3 4 2 6 4 2 5 2 2 4 1 5 3 6\n",
      " 3 2 3 5 2 3 6 1 1 4 3 1 5 5 3 2 4 6 3 4 3 2 2 1 3 5 5 1 2 5 3 3 3 5 1 2 5\n",
      " 6 5 6 2 3 3 1 3 2 1 3 3 6 5 6 6 2 2 1 4 3 4 3 3 3 6 4 3 1 5 6 3 3 2 1 4 4\n",
      " 2 3 4 3 4 4 4 6 1 3 5 6 3 1 1 4 1 3 6 5 1 6 4 4 1 6 6 1 4 2 3 3 4 1 3 1 2\n",
      " 3 5 6 3 2 6 2 4 5 5 1 3 2 1 6 6 4 1 5 3 5 3 2 4 5 1 2 5 4 5 6 6 4 2 4 2 3\n",
      " 5 3 2 5 1 6 3 3 4 5 1 5 4 1 3 4 4 1 2 1 4 3 5 3 2 2 1 6 2 3 5 6 6 5 1 4 2\n",
      " 2 2 4 2 1 4 1 4 3 5 2 3 3 4 1 4 3 6 2 6 2 2 2 5 1 6 5 6 2 5 6 6 5 2 3 2 1\n",
      " 5 3 1 2 6 2 1 4 5 5 3 5 3 2 5 3 4 3 2 6 1 3 1 2 6 5 2 3 1 4 6 3 5 4 2 5 1\n",
      " 5 6 4 6 6 3 4 2 5 3 3 4 3 1 4 6 4 5 2 1 2 3 5 3 2 1 2 1 1 4 6 5 5 1 1 1 2\n",
      " 5 5 3 5 2 2 3 6 6 4 6 1 4 4 5 5 4 1 5 2 5 6 6 6 6 1 5 6 1 1 6 5 4 4 5 2 2\n",
      " 2 6 3 4 1 1 2 1 4 2 5 5 1 5 2 1 6 5 4 1 3 1 1 4 6 4 4 6 6 2 1 5 1 4 1 5 3\n",
      " 6 1 1 2 5 4 6 5 3 1 2 4 3 2 2 6 3 6 4 5 2 6 1 1 5 2 5 3 5 4 1 2 3 2 1 4 2\n",
      " 6 1 2 1 1 5 6 6 5 3 5 4 5 6 4 3 5 3 2 2 1 4 6 2 4 2 3 2 5 5 2 4 5 6 2 2 4\n",
      " 5 3 4 5 1 4 4 2 6 4 3 1 6 2 2 1 3 2 2 1 6 2 4 2 2 2 3 4 2 5 2 3 3 3 2 5 4\n",
      " 6 4 1 5 3 2 2 6 1 5 2 1 5 6 3 2 1 1 5 1 1 2 6 2 6 1 6 1 4 5 1 1 2 2 4 4 5\n",
      " 1 3 3 4 4 1 6 4 2 1 1 6 4 3 1 1 1 6 5 2 2 5 1 2 6 3 3 3 1 3 4 6 2 6 6 6 2\n",
      " 4 6 6 2 6 2 1 2 1 3 2 3 4 6 3 3 1 5 3 4 3 3 4 3 5 1 3 3 4 5 5 3 3 1 3 1 4\n",
      " 3]\n",
      "{'1': 178, '2': 181, '3': 176, '4': 156, '5': 158, '6': 151}\n"
     ]
    }
   ],
   "source": [
    "import numpy as np #Ex.1\n",
    "import matplotlib.pyplot as plt\n",
    "\n",
    "dice = np.random.randint(1,7,size=1000) # 1,000 pseudorandom outcomes of a die roll are assigned to dice\n",
    "outcomes = (str(dice))\n",
    "poss = {'1':0,'2':0,'3':0,'4':0,'5':0,'6':0} # created dictionary to store outcomes for each die roll\n",
    "\n",
    "for item in outcomes:\n",
    "    for key in poss:# used for loops to iterate over the random die rolls created by randint\n",
    "        if item == key:\n",
    "            poss[key] += 1 # added to the dictionary values\n",
    "\n",
    "print(dice) # the numpy array below contains the simulated die rolls\n",
    "print(poss) # the dictionary containing sum of outcomes for 1-6"
   ]
  },
  {
   "cell_type": "markdown",
   "metadata": {},
   "source": [
    "##### Ex. 2 Bar Chart Showing Die Rolls\n",
    "\n",
    "Finally, in Ex.2 below I converted the dictionary values into a list and plotted them on a bar chart containing the total number of outcomes for each number on the die. Ex.1 above.\n",
    "\n",
    "The bar chart visualises the outcomes of 1000 rolls of a die.  It is apparent that the no. of times each value (1-6) occured is quite evenly spread. Each value has an equal probability of 1/6 on each roll, which explains the distribution in the chart. [5]"
   ]
  },
  {
   "cell_type": "code",
   "execution_count": 2,
   "metadata": {},
   "outputs": [
    {
     "data": {
      "image/png": "[encoded data removed]",
      "text/plain": [
       "<Figure size 432x288 with 1 Axes>"
      ]
     },
     "metadata": {},
     "output_type": "display_data"
    }
   ],
   "source": [
    "# Ex. 2\n",
    "name = ['one','two','three','four','five','six'] # x-axis labels\n",
    "\n",
    "values = list(poss.values()) # values for each die roll\n",
    "plt.xlabel('possible outcomes')\n",
    "plt.ylabel('no.of times')\n",
    "\n",
    "plt.bar(range(len(poss)),values,tick_label=name)\n",
    "plt.show()"
   ]
  },
  {
   "cell_type": "markdown",
   "metadata": {},
   "source": [
    "The standard deviation is a useful measure of how closely the results are spread around the mean [6].  The std dev here was low - only 11.42 - which again shows that the spread is largely even between values on the die."
   ]
  },
  {
   "cell_type": "code",
   "execution_count": 3,
   "metadata": {},
   "outputs": [
    {
     "name": "stdout",
     "output_type": "stream",
     "text": [
      "11.939663125714878\n"
     ]
    }
   ],
   "source": [
    "\n",
    "standard_deviation = np.std(values) # numpy method to calculate std dev\n",
    "print(standard_deviation)\n",
    "\n",
    "\n",
    "\n"
   ]
  },
  {
   "cell_type": "markdown",
   "metadata": {},
   "source": [
    "#### random.random_sample()\n",
    "\n",
    "The random_sample method is used below to create an imaginary dataset containing 100 numbers, where the numbers represent tiny beetles measuring 0.1cm -1cm in diameter.  random_sample uses the 'uniform distribution' in which each random number within the range (0-1) has an equal probability of occurence [3]."
   ]
  },
  {
   "cell_type": "code",
   "execution_count": 4,
   "metadata": {},
   "outputs": [],
   "source": [
    "x = (np.random.random_sample((100)))\n",
    "# creates a one-dimensional array (1 row) of 100 random numbers between 0-1.\n"
   ]
  },
  {
   "cell_type": "markdown",
   "metadata": {},
   "source": [
    "#### Ex.3 Single or multi-dimensional arrays\n",
    "\n",
    "Histograms are usually used to show one-dimensional continuous data e.g. histogram below. One-dimensional means that the data is contained in a single row or list, which has only one vector (direction) and can be indexed with a single value. Continuous data provides measurements of a single characteristic within a range [8] [3].  Above, I have created a 1D random dataset using random.random_sample. This represents beetles which might be between 0.1 - 1cm in diameter. The x-axis shows the single variable i.e. size in cm. The x-axis is divided into ten 'bins' from 0-1. The y-axis is simply a count of the number of beetles in each bin [3]. "
   ]
  },
  {
   "cell_type": "code",
   "execution_count": 5,
   "metadata": {},
   "outputs": [
    {
     "data": {
      "image/png": "[encoded data removed]",
      "text/plain": [
       "<Figure size 432x288 with 1 Axes>"
      ]
     },
     "metadata": {},
     "output_type": "display_data"
    }
   ],
   "source": [
    "plt.xlabel('size in cm')\n",
    "plt.ylabel('No. of Beetles')\n",
    "plt.title('Beetle Size')\n",
    "plt.hist(x,bins=10) \n",
    "plt.show()"
   ]
  },
  {
   "cell_type": "code",
   "execution_count": 6,
   "metadata": {},
   "outputs": [
    {
     "name": "stdout",
     "output_type": "stream",
     "text": [
      "0.7911508583471519\n"
     ]
    }
   ],
   "source": [
    "np.sort(x) # sorts the values in the 1D array in ascending order\n",
    "\n",
    "print(x[50]) #one-dimensional data can be accessed with a single index"
   ]
  },
  {
   "cell_type": "markdown",
   "metadata": {},
   "source": [
    "##### Ex.4 random.randn()\n",
    "\n",
    "This method is used in the example below to generate 1,000 random floats, which are then plotted below on a histogram using pyplot.\n",
    "\n",
    "It it also possible to create multi-dimensional arrays using this method.  In the cell beneath I have created a 3D array, which takes three index parameters[9]."
   ]
  },
  {
   "cell_type": "code",
   "execution_count": 7,
   "metadata": {},
   "outputs": [
    {
     "name": "stdout",
     "output_type": "stream",
     "text": [
      "[[[ 0.15186975  0.50577662]\n",
      "  [ 1.11213708  1.52706986]]\n",
      "\n",
      " [[-1.13310988 -1.67399907]\n",
      "  [ 1.13578773  0.58169715]]]\n",
      "The random number in the first set, first row and first column is 0.15186975372802333.\n"
     ]
    }
   ],
   "source": [
    "three_D = (np.random.randn(2,2,2))\n",
    "print(three_D)#example of slicing a 3D array.\n",
    "print('The random number in the first set, first row and first column is {}.'.format(three_D[0][0][0]))"
   ]
  },
  {
   "cell_type": "code",
   "execution_count": 8,
   "metadata": {},
   "outputs": [],
   "source": [
    "normal_dis = 1000 # no. of data points to plot in the normal distribution below\n",
    "ex_randn = (np.random.randn(normal_dis)) # call randn function"
   ]
  },
  {
   "cell_type": "code",
   "execution_count": 9,
   "metadata": {},
   "outputs": [
    {
     "data": {
      "text/plain": [
       "(array([  6.,  29.,  93., 189., 279., 212., 130.,  49.,  12.,   1.]),\n",
       " array([-3.11886608, -2.45745148, -1.79603688, -1.13462228, -0.47320768,\n",
       "         0.18820693,  0.84962153,  1.51103613,  2.17245073,  2.83386533,\n",
       "         3.49527993]),\n",
       " <a list of 10 Patch objects>)"
      ]
     },
     "execution_count": 9,
     "metadata": {},
     "output_type": "execute_result"
    },
    {
     "data": {
      "image/png": "[encoded data removed]",
      "text/plain": [
       "<Figure size 432x288 with 1 Axes>"
      ]
     },
     "metadata": {},
     "output_type": "display_data"
    }
   ],
   "source": [
    "plt.hist(ex_randn) # hist method creates a histogram object \n"
   ]
  },
  {
   "cell_type": "markdown",
   "metadata": {},
   "source": [
    "##### Permutation Functions\n",
    "Permutation is unique order of objects in a set of objects.  The number of possible permutations can be calculated using the formula n!/(n-r)!. r denotes the number of objects chosen from the set[11]. We can use the 'factorial' function in numpy to determine the number of possible permutations of a set."
   ]
  },
  {
   "cell_type": "code",
   "execution_count": 10,
   "metadata": {},
   "outputs": [
    {
     "data": {
      "text/plain": [
       "6"
      ]
     },
     "execution_count": 10,
     "metadata": {},
     "output_type": "execute_result"
    }
   ],
   "source": [
    "np.math.factorial(3)"
   ]
  },
  {
   "cell_type": "markdown",
   "metadata": {},
   "source": [
    "##### Permutation Game\n",
    "The factorial method tells us that the number of unique ways that 3 objects can be arranged is 6 [10]. I have created a game below with a set of 3 objects.  The 'random.permutation' method will choose one of the six possible permutations of the words 'one', 'two' and 'three'.  The player is then asked to choose the three words in any order.  If the player chooses the same permutation as the computer they win the game! The probability of choosing the correct permutation is 1/6."
   ]
  },
  {
   "cell_type": "code",
   "execution_count": 11,
   "metadata": {},
   "outputs": [],
   "source": [
    "Permutation = ('one','two','three')\n",
    "answer = np.random.permutation(Permutation)\n"
   ]
  },
  {
   "cell_type": "code",
   "execution_count": 12,
   "metadata": {},
   "outputs": [
    {
     "name": "stdout",
     "output_type": "stream",
     "text": [
      "Enter the words 'one', 'two' or 'three'...one\n",
      "Enter the words 'one', 'two' or 'three'...two\n",
      "Enter the words 'one', 'two' or 'three'...three\n",
      "Sorry, you lose! The correct order was ['two' 'one' 'three']\n"
     ]
    }
   ],
   "source": [
    "attempt = []\n",
    "while len(attempt) < 3: # will ask for input until user enters all three words\n",
    "    attempt.append(input(\"Enter the words 'one', 'two' or 'three'...\"))\n",
    "if tuple(attempt) == tuple(answer): # compares user input with permutation generated by numpy\n",
    "    print('You chose the correct permutation!', answer)\n",
    "else:\n",
    "    print('Sorry, you lose! The correct order was', answer)"
   ]
  },
  {
   "cell_type": "markdown",
   "metadata": {},
   "source": [
    "## 3. Explain the purpose and use of at least five \"Distributions\" functions"
   ]
  },
  {
   "cell_type": "markdown",
   "metadata": {},
   "source": [
    "#### 1.Geometric Distribution\n",
    "\n",
    "Bernoulli trials are experiments with one of two outcomes: success or failure (an example of such an experiment is flipping a coin). The geometric distribution models the number of trials that must be run in order to achieve success [12]. \n",
    "\n",
    "The geometric distribution is based on Bernoulli trials, which are experiments with two possible outcomes i.e. success or failure. The distribution calculates the number of experiments needed to achieve success [12].\n"
   ]
  },
  {
   "cell_type": "code",
   "execution_count": 13,
   "metadata": {},
   "outputs": [
    {
     "name": "stdout",
     "output_type": "stream",
     "text": [
      "[4 1 2 2 5 2 3]\n",
      "[2 2 1 2 3 1 1]\n",
      "2.7142857142857144\n",
      "1.7142857142857142\n",
      "In the plot below, it took just 2 throw on the first trial to land heads with the fair coin, whereas it took 4 throws\n",
      "to land heads with the unfair coin\n"
     ]
    },
    {
     "data": {
      "image/png": "[encoded data removed]",
      "text/plain": [
       "<Figure size 432x288 with 1 Axes>"
      ]
     },
     "metadata": {},
     "output_type": "display_data"
    }
   ],
   "source": [
    "unfair_coin = np.random.geometric(p=0.30, size=7) # The number of trials needed before the first success\n",
    "fair_coin = np.random.geometric(p=0.50, size=7)\n",
    "plt.ylabel('no.of throws to achieve success')#labels the y-axis\n",
    "plt.xlabel('Trial no.')#labels the x-axis\n",
    "plt.plot(fair_coin,'.r-',label='fair coin')\n",
    "plt.plot(unfair_coin,'.b-',label='unfair coin')\n",
    "plt.legend()#the legend method creates a default legend using the labels defined in the plot call\n",
    "\n",
    "\n",
    "print(unfair_coin)\n",
    "print(fair_coin)\n",
    "print(unfair_coin.mean())\n",
    "print(fair_coin.mean())\n",
    "print('''In the plot below, it took just {} throw on the first trial to land heads with the fair coin, whereas it took {} throws\n",
    "to land heads with the unfair coin'''.format(fair_coin[0],unfair_coin[0]))\n"
   ]
  },
  {
   "cell_type": "markdown",
   "metadata": {},
   "source": [
    "The lower p=, the more trials needed for first success"
   ]
  },
  {
   "cell_type": "code",
   "execution_count": 14,
   "metadata": {},
   "outputs": [
    {
     "data": {
      "text/plain": [
       "[<matplotlib.lines.Line2D at 0x202bd9ce320>]"
      ]
     },
     "execution_count": 14,
     "metadata": {},
     "output_type": "execute_result"
    },
    {
     "data": {
      "image/png": "[encoded data removed]",
      "text/plain": [
       "<Figure size 432x288 with 1 Axes>"
      ]
     },
     "metadata": {},
     "output_type": "display_data"
    }
   ],
   "source": [
    "plt.plot(unfair_coin,'.g-')"
   ]
  },
  {
   "cell_type": "code",
   "execution_count": 15,
   "metadata": {},
   "outputs": [
    {
     "data": {
      "text/plain": [
       "[<matplotlib.lines.Line2D at 0x202bda2d9b0>]"
      ]
     },
     "execution_count": 15,
     "metadata": {},
     "output_type": "execute_result"
    },
    {
     "data": {
      "image/png": "[encoded data removed]",
      "text/plain": [
       "<Figure size 432x288 with 1 Axes>"
      ]
     },
     "metadata": {},
     "output_type": "display_data"
    }
   ],
   "source": [
    "plt.plot(fair_coin,'.y-')"
   ]
  },
  {
   "cell_type": "markdown",
   "metadata": {},
   "source": [
    "#### 2. Normal Distribution\n",
    "\n",
    "The normal or standard distribution is notable here because many of numpy's methods implement a normal distribution. It differs from the uniform distribution in that most of values tend to lie closer to the mean value. Some good examples are test scores or IQ scores where most of the population are probably average or somewhere close to average.  The normal distribution is easily identifiable by its bell-shaped curve. In the dataset below generated by the random.normal method in numpy, there are 10,000 randomly generated scores from an imaginary IQ test.  The mean of 110 (average IQ) is given as a parameter. In the normal distribution, about 50% of the scores are below 110 and 50% are greater than 110."
   ]
  },
  {
   "cell_type": "code",
   "execution_count": 16,
   "metadata": {},
   "outputs": [
    {
     "data": {
      "text/plain": [
       "(array([  11.,   98.,  521., 1511., 2808., 2669., 1667.,  596.,  102.,\n",
       "          17.]), array([106.26789584, 107.00878042, 107.74966501, 108.49054959,\n",
       "        109.23143418, 109.97231876, 110.71320334, 111.45408793,\n",
       "        112.19497251, 112.9358571 , 113.67674168]), <a list of 10 Patch objects>)"
      ]
     },
     "execution_count": 16,
     "metadata": {},
     "output_type": "execute_result"
    },
    {
     "data": {
      "image/png": "[encoded data removed]",
      "text/plain": [
       "<Figure size 432x288 with 1 Axes>"
      ]
     },
     "metadata": {},
     "output_type": "display_data"
    }
   ],
   "source": [
    "x = np.random.normal(loc=110,size=10000) #loc= keyword parameter allows the mean of the distribution to be set\n",
    "plt.hist(x)"
   ]
  },
  {
   "cell_type": "markdown",
   "metadata": {},
   "source": [
    "##### 3. Uniform Distribution Function\n",
    "\n",
    "In the uniform distribution, each number in the chosen range has an equal chance of being picked.  In the example below, we can see that if 1,000 numbers are chosen from 1-10, each number from 1-10 is chosen a similar number of times with low variance."
   ]
  },
  {
   "cell_type": "code",
   "execution_count": 29,
   "metadata": {
    "scrolled": true
   },
   "outputs": [
    {
     "data": {
      "text/plain": [
       "5.448464205896235"
      ]
     },
     "execution_count": 29,
     "metadata": {},
     "output_type": "execute_result"
    },
    {
     "data": {
      "image/png": "[encoded data removed]",
      "text/plain": [
       "<Figure size 432x288 with 1 Axes>"
      ]
     },
     "metadata": {},
     "output_type": "display_data"
    }
   ],
   "source": [
    "cards = np.random.uniform(low=1, high=10, size=1000)\n",
    "plt.axhline(y=100,color='r')\n",
    "plt.hist(cards, bins= 10)\n",
    "cards.mean()\n"
   ]
  },
  {
   "cell_type": "markdown",
   "metadata": {},
   "source": [
    "##### 4. Exponential Distribution Function\n",
    "\n",
    "The exponential distribution function calculates the probability of the length of time before an event is due to occur.For example it could be used to calculate the probability of the  how long it will take for the next bus to arrive when waiting at a bus stop or perhaps how long before the next call will be received at a call centre [13].  In the exponential distribution shown in the histogram below, the number of buses that were observed are plotted on the y-axis, while the time intervals are plotted on the x-axis.\n",
    "\n"
   ]
  },
  {
   "cell_type": "code",
   "execution_count": 77,
   "metadata": {},
   "outputs": [
    {
     "data": {
      "text/plain": [
       "(array([48., 33.,  6.,  8.,  1.,  1.,  0.,  1.,  0.,  2.]),\n",
       " array([ 0.14007838,  7.56739403, 14.99470968, 22.42202533, 29.84934098,\n",
       "        37.27665663, 44.70397227, 52.13128792, 59.55860357, 66.98591922,\n",
       "        74.41323487]),\n",
       " <a list of 10 Patch objects>)"
      ]
     },
     "execution_count": 77,
     "metadata": {},
     "output_type": "execute_result"
    },
    {
     "data": {
      "image/png": "[encoded data removed]",
      "text/plain": [
       "<Figure size 432x288 with 1 Axes>"
      ]
     },
     "metadata": {},
     "output_type": "display_data"
    }
   ],
   "source": [
    "a = np.random.exponential(scale=10, size=100)\n",
    "plt.title('Bus Waiting Times')\n",
    "plt.ylabel('no.of buses')\n",
    "plt.xlabel('waiting time in mins')\n",
    "plt.hist(a)\n"
   ]
  },
  {
   "cell_type": "markdown",
   "metadata": {},
   "source": [
    "##### 5. Pareto Distribution Function\n",
    "\n",
    "A good example of the Pareto distribution in practice is the notion that only 20% of the world's population hold 80% of the  wealth, this is often called the \"80-20 rule\".  In the histogram below, 80% of the sample are in the lowest 20% of the range [14]."
   ]
  },
  {
   "cell_type": "code",
   "execution_count": 96,
   "metadata": {},
   "outputs": [
    {
     "data": {
      "text/plain": [
       "(array([77., 12.,  8.,  2.,  0.,  0.,  0.,  0.,  0.,  1.]),\n",
       " array([ 2.00649416,  2.90677701,  3.80705987,  4.70734272,  5.60762558,\n",
       "         6.50790843,  7.40819129,  8.30847414,  9.208757  , 10.10903985,\n",
       "        11.00932271]),\n",
       " <a list of 10 Patch objects>)"
      ]
     },
     "execution_count": 96,
     "metadata": {},
     "output_type": "execute_result"
    },
    {
     "data": {
      "image/png": "[encoded data removed]",
      "text/plain": [
       "<Figure size 432x288 with 1 Axes>"
      ]
     },
     "metadata": {},
     "output_type": "display_data"
    }
   ],
   "source": [
    "a, m = 3., 2.  \n",
    "s = (np.random.pareto(a, 100) + 1) * m # This pareto dist call was borrowed from numpy documentation.\n",
    "plt.title('80-20 rule')\n",
    "plt.xlabel('Range')\n",
    "plt.ylabel('Frequency')\n",
    "plt.hist(s)"
   ]
  },
  {
   "cell_type": "markdown",
   "metadata": {},
   "source": [
    "## 4. Explain the use of seeds in generating pseudorandom numbers"
   ]
  },
  {
   "cell_type": "markdown",
   "metadata": {},
   "source": [
    "The numpy.random package provides a wide variety of options for generating pseudorandom numbers.  Pseudorandom numbers are not truly random because numpy uses a built-in 'methodology' for creating random numbers. One way random numbers can be created is by using a seed. For example, the seed could be a starting point within the random sequence of the number Pi which has been shown scientifically to have no order. Using a seed is artificially random, since if we know the starting point in the Pi sequence the number could be predicted [3]. Scientists have used computers to look through 200 billion digits after the decimal point in the number Pi without finding any pattern 1.[4]."
   ]
  },
  {
   "cell_type": "code",
   "execution_count": null,
   "metadata": {},
   "outputs": [],
   "source": []
  }
 ],
 "metadata": {
  "kernelspec": {
   "display_name": "Python 3",
   "language": "python",
   "name": "python3"
  },
  "language_info": {
   "codemirror_mode": {
    "name": "ipython",
    "version": 3
   },
   "file_extension": ".py",
   "mimetype": "text/x-python",
   "name": "python",
   "nbconvert_exporter": "python",
   "pygments_lexer": "ipython3",
   "version": "3.6.5"
  }
 },
 "nbformat": 4,
 "nbformat_minor": 2
}
