{
 "cells": [
  {
   "cell_type": "markdown",
   "metadata": {},
   "source": [
    "\n",
    "## Tasks:\n",
    "\n",
    "1. Explain purpose of package\n",
    "2. Explain the purpose of the \"simple random data\" and \"permutations\" functions\n",
    "3. Explain the purpose and use of at least five \"Distributions\" functions\n",
    "4. Explain the use of seeds in generating pseudorandom numbers\n",
    "\n",
    "https://www.sciencedaily.com/releases/2005/04/050427094258.htm\n",
    "\n",
    "\n",
    "https://math.stackexchange.com/questions/11415/chance-on-throwing-a-six-with-6-dice\n",
    "\n",
    "https://www.statcan.gc.ca/edu/power-pouvoir/ch12/5214891-eng.htm\n",
    "\n",
    "https://www.dezyre.com/data-science-in-python-tutorial/matplotlib-tutorial\n",
    "\n",
    "https://docs.microsoft.com/en-us/dotnet/visual-basic/programming-guide/language-features/arrays/array-dimensions\n",
    "\n",
    "https://stattrek.com/probability/combinations-permutations.aspx"
   ]
  },
  {
   "cell_type": "markdown",
   "metadata": {},
   "source": []
  },
  {
   "cell_type": "markdown",
   "metadata": {},
   "source": [
    "# 1. Explain the Purpose of the Package\n",
    "\n",
    "The numpy.random package provides a wide variety of options for generating pseudorandom numbers.  Pseudorandom numbers are not truly random because numpy uses a built-in 'methodology' for creating random numbers. One way random numbers can be created is by using a seed. For example, the seed could be a starting point within the random sequence of the number Pi which has been shown scientifically to have no order. Using a seed is artificially random, since if we know the starting point in the Pi sequence the number could be predicted (McLoughlin, I). Scientists have used computers to look through 200 billion digits after the decimal point in the number Pi without finding any pattern 1.(Purdue University, 2005)."
   ]
  },
  {
   "cell_type": "markdown",
   "metadata": {},
   "source": [
    "# 2. Explain the purpose of the \"simple random data\" and \"permutations\" functions\n",
    "\n"
   ]
  },
  {
   "cell_type": "markdown",
   "metadata": {},
   "source": [
    "### Simple random data functions \n",
    "\n",
    "These enable us to simulate problems relating to probability by providing mock data that we can use to artificially test hypotheses. For example, random.randint method could be used to simulate the roll of a die.\n",
    "\n",
    "Ex.1 below uses the random library's 'randint' method to generate random integers between 1 & 6, simulating a die roll."
   ]
  },
  {
   "cell_type": "code",
   "execution_count": 1,
   "metadata": {},
   "outputs": [
    {
     "name": "stdout",
     "output_type": "stream",
     "text": [
      "[6 5 1 3 2 5 2 5 6 4 1 4 3 2 1 5 6 6 5 4 4 2 4 3 2 5 6 1 5 4 1 4 2 2 1 6 6\n",
      " 4 6 2 4 3 4 3 6 1 2 6 1 3 4 6 2 2 5 4 6 2 5 5 5 2 5 1 2 3 1 2 1 2 6 2 6 3\n",
      " 5 3 3 5 2 5 4 3 3 6 2 4 2 4 6 2 3 2 6 5 1 6 4 3 5 6 2 6 4 3 6 3 1 3 3 5 2\n",
      " 5 3 1 2 1 4 3 1 3 2 4 4 1 6 2 6 1 6 1 2 3 6 6 5 4 2 3 1 5 4 2 6 4 1 3 1 3\n",
      " 6 3 3 5 5 4 3 6 6 2 5 2 3 6 3 2 4 1 5 2 5 2 3 5 6 6 2 2 5 6 1 4 6 1 4 4 5\n",
      " 2 5 6 5 1 2 5 3 3 4 3 5 5 3 6 2 2 6 2 3 1 4 3 5 4 3 5 5 1 3 2 6 1 3 1 3 3\n",
      " 3 6 4 6 6 3 6 6 5 1 6 2 1 5 2 2 4 4 5 2 2 3 6 6 6 3 4 5 1 1 1 6 1 5 3 3 2\n",
      " 4 3 5 5 1 2 1 5 2 4 6 3 1 4 1 5 2 3 3 4 2 3 5 3 5 5 3 6 4 6 1 3 4 6 2 3 3\n",
      " 4 6 1 2 5 3 3 3 6 3 6 4 3 3 5 2 1 5 5 1 6 6 1 4 6 1 6 6 5 6 2 2 1 2 2 5 1\n",
      " 6 2 2 1 1 2 6 3 1 4 6 6 1 2 6 6 1 4 4 3 1 2 1 4 6 3 1 2 4 1 3 3 2 3 3 1 6\n",
      " 1 5 2 4 1 6 5 3 4 5 6 4 4 3 5 2 5 4 3 3 4 4 1 2 6 5 4 3 4 3 2 2 2 6 4 4 5\n",
      " 3 1 1 3 1 3 5 2 2 3 3 4 6 3 3 1 3 6 2 2 6 1 5 2 5 5 5 2 3 4 1 2 3 6 5 1 6\n",
      " 4 5 3 5 4 6 4 1 6 1 4 3 4 1 3 6 2 3 1 5 1 4 5 5 4 3 4 4 1 4 2 4 6 3 3 4 3\n",
      " 5 5 4 3 6 2 5 6 3 4 6 1 2 2 5 1 1 2 2 1 5 6 1 1 6 5 4 6 6 6 5 5 1 6 6 1 5\n",
      " 3 1 6 3 3 3 4 6 2 6 1 2 4 3 6 6 2 4 6 6 2 2 4 6 2 2 6 6 6 3 2 4 2 2 4 4 6\n",
      " 2 5 1 4 1 6 3 5 2 3 6 1 2 6 1 6 5 5 6 6 3 2 4 1 5 2 1 2 4 2 1 6 3 2 6 1 5\n",
      " 3 4 5 4 5 3 1 2 5 1 5 5 3 2 2 2 5 4 2 6 6 3 4 6 2 4 2 2 4 2 2 5 5 5 1 4 2\n",
      " 2 6 3 3 4 1 5 1 1 3 4 5 3 1 4 6 6 6 6 6 6 6 3 4 1 2 6 2 5 1 6 3 2 3 2 6 5\n",
      " 4 1 5 6 2 5 4 3 3 1 4 6 2 4 5 6 3 6 6 2 1 3 1 1 4 4 1 1 3 6 3 1 2 4 3 5 1\n",
      " 1 1 3 6 6 5 2 3 2 2 6 4 1 6 5 4 4 6 4 5 5 4 5 6 6 5 1 3 3 3 6 5 2 6 3 6 1\n",
      " 2 4 5 5 6 6 2 6 5 2 2 6 6 4 5 1 4 6 3 2 4 4 1 5 5 1 5 5 1 5 4 6 6 2 6 4 4\n",
      " 6 2 3 5 4 1 3 5 2 6 5 3 3 4 6 4 1 1 6 4 4 6 2 5 3 1 2 2 3 4 4 5 1 6 5 1 3\n",
      " 5 4 4 4 2 3 1 1 6 2 6 4 3 1 5 1 4 4 3 3 3 1 4 1 4 1 6 3 5 3 1 6 3 1 6 3 1\n",
      " 2 4 2 1 1 1 6 4 3 6 1 1 4 4 5 5 3 4 4 4 6 2 5 1 6 1 5 1 4 6 6 3 2 6 1 4 1\n",
      " 4 1 4 5 1 6 4 4 3 6 3 2 1 3 1 6 4 5 6 3 1 5 2 2 5 1 4 4 1 6 6 5 1 5 2 1 1\n",
      " 4 3 5 2 3 2 4 3 6 5 3 5 2 1 4 6 5 2 3 5 2 3 5 2 1 1 5 3 4 4 1 1 6 2 2 5 3\n",
      " 6 2 6 6 4 2 6 1 5 4 5 1 4 3 4 4 5 4 4 2 4 1 1 4 5 1 4 2 5 1 2 5 1 4 5 1 1\n",
      " 2]\n",
      "{'1': 169, '2': 164, '3': 164, '4': 165, '5': 155, '6': 183}\n"
     ]
    }
   ],
   "source": [
    "import numpy as np #Ex.1\n",
    "import matplotlib.pyplot as plt\n",
    "\n",
    "dice = np.random.randint(1,7,size=1000) # 1,000 pseudorandom outcomes of a die roll are assigned to dice\n",
    "outcomes = (str(dice))\n",
    "poss = {'1':0,'2':0,'3':0,'4':0,'5':0,'6':0} # created dictionary to store outcomes for each die roll\n",
    "\n",
    "for item in outcomes:\n",
    "    for key in poss:# used for loops to iterate over the random die rolls created by randint\n",
    "        if item == key:\n",
    "            poss[key] += 1 # added to the dictionary values\n",
    "\n",
    "print(dice) # the numpy array below contains the simulated die rolls\n",
    "print(poss) # the dictionary containing sum of outcomes for 1-6"
   ]
  },
  {
   "cell_type": "markdown",
   "metadata": {},
   "source": [
    "##### Ex. 2 Bar Chart Showing Die Rolls\n",
    "\n",
    "The bar chart visualises the outcomes of 1000 rolls of a die.  It is apparent that the no. of times each value (1-6) occured is quite evenly spread. Each value has an equal probability of 1/6 on each roll, which explains the distribution in the chart. (Math Stack Exchange)"
   ]
  },
  {
   "cell_type": "code",
   "execution_count": 2,
   "metadata": {},
   "outputs": [
    {
     "data": {
      "image/png": "[encoded data removed]",
      "text/plain": [
       "<Figure size 432x288 with 1 Axes>"
      ]
     },
     "metadata": {},
     "output_type": "display_data"
    }
   ],
   "source": [
    "# Ex. 2\n",
    "name = ['one','two','three','four','five','six'] # x-axis labels\n",
    "\n",
    "values = list(poss.values()) # values for each die roll\n",
    "plt.xlabel('possible outcomes')\n",
    "plt.ylabel('no.of times')\n",
    "\n",
    "plt.bar(range(len(poss)),values,tick_label=name)\n",
    "plt.show()"
   ]
  },
  {
   "cell_type": "markdown",
   "metadata": {},
   "source": [
    "The standard deviation is a useful measure of how closely the results are spread around the mean (Statistics Canada).  The std dev here was low - only 11.42 - which again shows that the spread is largely even between values on the die."
   ]
  },
  {
   "cell_type": "code",
   "execution_count": 3,
   "metadata": {},
   "outputs": [
    {
     "name": "stdout",
     "output_type": "stream",
     "text": [
      "8.41955396021006\n"
     ]
    }
   ],
   "source": [
    "\n",
    "standard_deviation = np.std(values) # numpy method to calculate std dev\n",
    "print(standard_deviation)\n",
    "\n",
    "\n",
    "\n"
   ]
  },
  {
   "cell_type": "markdown",
   "metadata": {},
   "source": [
    "#### Uniform Distribution\n",
    "\n",
    "The random_sample method is used below to create an imaginary dataset containing 100 numbers, where the numbers represent tiny beetles measuring 0.1cm -1cm in diameter.  random_sample uses the 'uniform distribution' in which each random number within the range (0-1) has an equal probability of occurence (McLoughlin, I)."
   ]
  },
  {
   "cell_type": "code",
   "execution_count": 4,
   "metadata": {},
   "outputs": [],
   "source": [
    "x = (np.random.random_sample((100)))\n",
    "# creates a one-dimensional array (1 row) of 100 random numbers between 0-1.\n"
   ]
  },
  {
   "cell_type": "markdown",
   "metadata": {},
   "source": [
    "#### Histograms \n",
    "\n",
    "Histograms can be used to show one-dimensional continuous data e.g. histogram below. One-dimensional means that the data is contained in a single row, which has only one vector (direction) and can be indexed with a single value. Continuous data provides measurements of a single characteristic within a range. (Microsoft.com) (McLoughlin, I)"
   ]
  },
  {
   "cell_type": "code",
   "execution_count": 5,
   "metadata": {},
   "outputs": [
    {
     "data": {
      "image/png": "[encoded data removed]",
      "text/plain": [
       "<Figure size 432x288 with 1 Axes>"
      ]
     },
     "metadata": {},
     "output_type": "display_data"
    }
   ],
   "source": [
    "plt.xlabel('size in cm')\n",
    "plt.ylabel('No. of Beetles')\n",
    "plt.title('Beetle Size')\n",
    "plt.hist(x,bins=10) \n",
    "plt.show()"
   ]
  },
  {
   "cell_type": "code",
   "execution_count": 6,
   "metadata": {},
   "outputs": [
    {
     "name": "stdout",
     "output_type": "stream",
     "text": [
      "0.1319093440661845\n"
     ]
    }
   ],
   "source": [
    "np.sort(x) # sorts the values in the 1D array in ascending order\n",
    "\n",
    "print(x[50]) #one-dimensional data can be accessed with a single index"
   ]
  },
  {
   "cell_type": "code",
   "execution_count": 7,
   "metadata": {},
   "outputs": [],
   "source": [
    "normal_dis = 1000 # no. of data points to plot in the normal distribution below\n",
    "ex_randn = (np.random.randn(normal_dis)) # call randn function"
   ]
  },
  {
   "cell_type": "code",
   "execution_count": 8,
   "metadata": {},
   "outputs": [
    {
     "data": {
      "text/plain": [
       "(array([  2.,  20.,  64., 135., 261., 262., 168.,  72.,  14.,   2.]),\n",
       " array([-3.28593091, -2.6179972 , -1.95006348, -1.28212977, -0.61419606,\n",
       "         0.05373766,  0.72167137,  1.38960508,  2.05753879,  2.72547251,\n",
       "         3.39340622]),\n",
       " <a list of 10 Patch objects>)"
      ]
     },
     "execution_count": 8,
     "metadata": {},
     "output_type": "execute_result"
    },
    {
     "data": {
      "image/png": "[encoded data removed]",
      "text/plain": [
       "<Figure size 432x288 with 1 Axes>"
      ]
     },
     "metadata": {},
     "output_type": "display_data"
    }
   ],
   "source": [
    "plt.hist(ex_randn) # hist method creates a histogram object \n"
   ]
  },
  {
   "cell_type": "markdown",
   "metadata": {},
   "source": [
    "##### Permutation Functions\n",
    "Permutation is unique order of objects in a set of objects.  The number of possible permutations can be calculated using the formula n!(n-r)!. r denotes the number of objects chosen from the set. We can use the 'factorial' function in numpy to determine the number of possible permutations of a set."
   ]
  },
  {
   "cell_type": "code",
   "execution_count": 9,
   "metadata": {},
   "outputs": [
    {
     "data": {
      "text/plain": [
       "6"
      ]
     },
     "execution_count": 9,
     "metadata": {},
     "output_type": "execute_result"
    }
   ],
   "source": [
    "np.math.factorial(3)"
   ]
  },
  {
   "cell_type": "markdown",
   "metadata": {},
   "source": [
    "##### Permutation Game\n",
    "The factorial method tells us that the number of unique ways that 3 objects can be arranged is 6. I have created a game below with a set of 3 objects.  The 'random.permutation' method will choose one of the six possible permutations of the words 'one', 'two' and 'three'.  The player is then asked to choose the three words in any order.  If the player chooses the same permutation as the computer they win the game! The probability of choosing the correct permutation is 1/6."
   ]
  },
  {
   "cell_type": "code",
   "execution_count": 10,
   "metadata": {},
   "outputs": [],
   "source": [
    "Permutation = ('one','two','three')\n",
    "answer = np.random.permutation(Permutation)\n"
   ]
  },
  {
   "cell_type": "code",
   "execution_count": 11,
   "metadata": {},
   "outputs": [
    {
     "name": "stdout",
     "output_type": "stream",
     "text": [
      "Enter the words 'one', 'two' or 'three'...three\n",
      "Enter the words 'one', 'two' or 'three'...two\n",
      "Enter the words 'one', 'two' or 'three'...one\n",
      "You chose the correct permutation! ['three' 'two' 'one']\n"
     ]
    }
   ],
   "source": [
    "attempt = []\n",
    "while len(attempt) < 3: # will ask for input until user enters all three words\n",
    "    attempt.append(input(\"Enter the words 'one', 'two' or 'three'...\"))\n",
    "if tuple(attempt) == tuple(answer): # compares user input with permutation generated by numpy\n",
    "    print('You chose the correct permutation!', answer)\n",
    "else:\n",
    "    print('Sorry, you lose! The correct order was', answer)"
   ]
  },
  {
   "cell_type": "markdown",
   "metadata": {},
   "source": [
    "## 4. Explain the purpose and use of at least five \"Distributions\" functions"
   ]
  },
  {
   "cell_type": "markdown",
   "metadata": {},
   "source": [
    "#### 1.Geometric Distribution\n",
    "\n",
    "Bernoulli trials are experiments with one of two outcomes: success or failure (an example of such an experiment is flipping a coin). The geometric distribution models the number of trials that must be run in order to achieve success. It is therefore supported on the positive integer\n",
    "\n",
    "The geometric distribution is based on Bernoulli trials, which are experiments with two possible outcomes i.e. success or failure. The distribution calculates the number of experiments needed to achieve success.\n"
   ]
  },
  {
   "cell_type": "code",
   "execution_count": 52,
   "metadata": {},
   "outputs": [
    {
     "name": "stdout",
     "output_type": "stream",
     "text": [
      "[3 1 3 9 1 1 1]\n",
      "[1 2 1 4 2 3 1]\n",
      "2.7142857142857144\n",
      "2.0\n",
      "In the plot below, it took just 1 throw on the first trial to land heads with the fair die, whereas it took 3 throws\n",
      "to land heads with the unfair die\n"
     ]
    },
    {
     "data": {
      "image/png": "[encoded data removed]",
      "text/plain": [
       "<Figure size 432x288 with 1 Axes>"
      ]
     },
     "metadata": {},
     "output_type": "display_data"
    }
   ],
   "source": [
    "unfair_die = np.random.geometric(p=0.30, size=7) # The number of trials needed before the first success\n",
    "fair_die = np.random.geometric(p=0.50, size=7)\n",
    "plt.ylabel('no.of throws to achieve success')\n",
    "plt.xlabel('Trial no.')\n",
    "plt.plot(fair_die,'.r-',unfair_die,'.b-')\n",
    "\n",
    "\n",
    "print(unfair_die)\n",
    "print(fair_die)\n",
    "print(unfair_die.mean())\n",
    "print(fair_die.mean())\n",
    "print('''In the plot below, it took just {} throw on the first trial to land heads with the fair die, whereas it took {} throws\n",
    "to land heads with the unfair die'''.format(fair_die[0],unfair_die[0]))\n"
   ]
  },
  {
   "cell_type": "markdown",
   "metadata": {},
   "source": [
    "The lower p=, the more trials needed for first success"
   ]
  },
  {
   "cell_type": "markdown",
   "metadata": {},
   "source": [
    "#### 2. Normal Distribution\n",
    "\n",
    "The normal or standard distribution is notable here because many of numpy's methods implement a normal distribution. It differs from the uniform distribution in that most of values tend to lie closer to the mean value. Some good examples are test scores or IQ scores where most of the population are probably average or somewhere close to average.  The normal distribution is easily identifiable by its bell-shaped curve."
   ]
  },
  {
   "cell_type": "code",
   "execution_count": 81,
   "metadata": {},
   "outputs": [
    {
     "data": {
      "text/plain": [
       "(array([   5.,   81.,  440., 1331., 2600., 2908., 1811.,  676.,  133.,\n",
       "          15.]), array([105.99850443, 106.77004401, 107.54158359, 108.31312318,\n",
       "        109.08466276, 109.85620235, 110.62774193, 111.39928151,\n",
       "        112.1708211 , 112.94236068, 113.71390026]), <a list of 10 Patch objects>)"
      ]
     },
     "execution_count": 81,
     "metadata": {},
     "output_type": "execute_result"
    },
    {
     "data": {
      "image/png": "[encoded data removed]",
      "text/plain": [
       "<Figure size 432x288 with 1 Axes>"
      ]
     },
     "metadata": {},
     "output_type": "display_data"
    }
   ],
   "source": [
    "x = np.random.normal(loc=110,size=10000)\n",
    "plt.hist(x)"
   ]
  },
  {
   "cell_type": "code",
   "execution_count": null,
   "metadata": {},
   "outputs": [],
   "source": []
  },
  {
   "cell_type": "code",
   "execution_count": null,
   "metadata": {},
   "outputs": [],
   "source": []
  }
 ],
 "metadata": {
  "kernelspec": {
   "display_name": "Python 3",
   "language": "python",
   "name": "python3"
  },
  "language_info": {
   "codemirror_mode": {
    "name": "ipython",
    "version": 3
   },
   "file_extension": ".py",
   "mimetype": "text/x-python",
   "name": "python",
   "nbconvert_exporter": "python",
   "pygments_lexer": "ipython3",
   "version": "3.6.5"
  }
 },
 "nbformat": 4,
 "nbformat_minor": 2
}
