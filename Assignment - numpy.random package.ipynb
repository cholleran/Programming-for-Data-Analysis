{
 "cells": [
  {
   "cell_type": "markdown",
   "metadata": {},
   "source": [
    "\n",
    "## Tasks:\n",
    "\n",
    "1. Explain purpose of package\n",
    "2. Explain the purpose of the \"simple random data\" and \"permutations\" functions\n",
    "3. Explain the purpose and use of at least five \"Distributions\" functions\n",
    "4. Explain the use of seeds in generating pseudorandom numbers\n",
    "\n",
    "https://www.sciencedaily.com/releases/2005/04/050427094258.htm\n",
    "\n",
    "\n",
    "https://math.stackexchange.com/questions/11415/chance-on-throwing-a-six-with-6-dice\n",
    "\n",
    "https://www.statcan.gc.ca/edu/power-pouvoir/ch12/5214891-eng.htm\n",
    "\n",
    "https://www.dezyre.com/data-science-in-python-tutorial/matplotlib-tutorial\n",
    "\n",
    "https://docs.microsoft.com/en-us/dotnet/visual-basic/programming-guide/language-features/arrays/array-dimensions"
   ]
  },
  {
   "cell_type": "markdown",
   "metadata": {},
   "source": []
  },
  {
   "cell_type": "markdown",
   "metadata": {},
   "source": [
    "# 1. Explain the Purpose of the Package\n",
    "\n",
    "The numpy.random package provides a wide variety of options for generating pseudorandom numbers.  Pseudorandom numbers are not truly random because numpy uses a built-in 'methodology' for creating random numbers. One way random numbers can be created is by using a seed. For example, the seed could be a starting point within the random sequence of the number Pi which has been shown scientifically to have no order. Using a seed is artificially random, since if we know the starting point in the Pi sequence the number could be predicted. Scientists have used computers to look through 200 billion digits after the decimal point in the number Pi without finding any pattern 1.(Purdue University, 2005)."
   ]
  },
  {
   "cell_type": "markdown",
   "metadata": {},
   "source": [
    "# 2. Explain the purpose of the \"simple random data\" and \"permutations\" functions\n",
    "\n"
   ]
  },
  {
   "cell_type": "markdown",
   "metadata": {},
   "source": [
    "#### Simple random data functions \n",
    "\n",
    "These enable us to simulate problems relating to probability by providing mock data that we can use to artificially test hypotheses. For example, random.randint method could be used to simulate the roll of a die.\n",
    "\n",
    "Ex.1 below uses the random library's 'randint' method to generate random integers between 1 & 6, simulating a die roll."
   ]
  },
  {
   "cell_type": "code",
   "execution_count": 10,
   "metadata": {},
   "outputs": [
    {
     "name": "stdout",
     "output_type": "stream",
     "text": [
      "[2 2 1 6 2 4 2 2 1 3 1 6 3 2 6 4 4 1 6 5 3 3 6 6 3 2 6 6 4 1 1 6 1 1 5 1 5\n",
      " 5 3 2 6 4 4 3 2 3 4 3 6 4 1 3 3 1 5 4 1 2 6 5 3 4 5 3 2 5 5 1 3 4 2 3 2 6\n",
      " 1 2 6 4 1 5 1 5 4 5 6 1 2 1 2 5 2 1 1 5 5 3 3 4 3 5 4 3 3 6 1 2 3 2 2 4 5\n",
      " 3 2 1 6 5 6 3 4 2 3 1 5 5 6 1 5 4 4 3 6 5 3 3 5 5 2 2 3 3 1 3 6 2 2 6 4 3\n",
      " 3 1 3 5 3 5 3 2 2 3 1 2 3 4 4 2 2 4 5 3 2 1 5 6 1 4 5 6 4 1 5 5 4 5 5 6 3\n",
      " 3 5 1 3 5 6 6 5 5 3 5 1 5 5 1 5 5 2 5 6 5 4 1 6 3 3 4 4 1 6 3 1 1 6 5 2 2\n",
      " 3 2 5 1 4 1 1 6 1 6 6 3 2 1 6 1 6 3 1 4 5 2 1 1 5 1 4 2 2 4 6 2 5 5 2 5 3\n",
      " 4 5 3 6 6 6 2 4 2 5 4 3 3 3 6 4 4 3 2 1 6 4 2 6 3 4 5 2 5 1 1 1 1 3 2 6 4\n",
      " 4 2 1 3 4 1 4 2 4 5 1 4 3 6 5 3 1 4 1 2 6 6 3 4 3 4 2 4 6 5 1 1 1 6 4 5 6\n",
      " 1 4 6 3 4 3 2 1 2 2 5 1 4 1 2 1 1 3 6 5 4 1 4 6 2 3 6 1 3 1 1 4 1 2 3 5 2\n",
      " 1 5 2 2 5 1 5 2 4 6 6 5 6 3 2 1 3 4 6 3 3 1 6 1 4 6 5 4 6 3 6 6 4 1 2 5 1\n",
      " 3 3 2 2 1 3 2 6 4 3 6 4 4 3 5 1 2 4 6 1 3 4 1 6 6 3 1 4 5 4 5 3 6 1 5 4 5\n",
      " 1 6 5 2 4 6 4 5 4 3 4 1 3 4 5 4 3 3 4 2 2 1 6 4 3 3 3 3 5 4 5 4 5 5 5 2 4\n",
      " 4 1 5 5 2 1 3 4 1 4 3 3 1 3 1 5 3 6 4 5 3 6 2 2 5 6 2 5 2 1 3 3 4 2 1 5 6\n",
      " 3 1 2 2 4 6 1 4 2 1 2 4 3 6 3 1 3 6 6 1 5 4 2 4 3 4 4 3 4 5 5 2 5 5 4 3 5\n",
      " 5 4 4 6 1 5 5 1 4 1 2 6 2 6 3 1 1 4 4 4 5 2 6 6 6 3 4 3 2 3 6 4 2 1 5 3 5\n",
      " 1 1 3 2 2 3 2 6 5 2 1 4 1 6 5 4 6 3 3 1 6 2 4 3 2 5 1 4 1 1 2 5 1 4 3 2 1\n",
      " 4 6 5 5 4 3 2 6 4 1 4 2 6 5 1 3 6 4 5 1 5 2 6 3 3 4 5 5 1 1 3 5 1 5 5 6 3\n",
      " 2 5 4 3 5 6 6 6 6 3 6 5 2 3 1 5 4 4 4 5 6 6 2 5 6 5 1 6 1 6 5 5 6 2 6 5 6\n",
      " 3 4 2 3 6 4 5 5 1 4 4 6 2 6 5 2 5 6 6 4 2 5 5 1 5 4 6 4 3 1 2 3 5 6 2 3 6\n",
      " 2 6 3 3 6 5 5 3 6 5 3 6 1 2 6 1 3 2 4 1 4 1 5 6 4 3 4 5 3 2 4 5 4 2 5 4 6\n",
      " 2 5 3 3 3 2 4 1 3 3 5 4 6 4 1 1 5 5 1 4 1 2 4 3 3 3 2 6 2 6 4 5 5 3 5 4 3\n",
      " 1 4 5 1 1 3 5 6 3 6 3 3 6 6 1 3 4 1 5 4 3 4 2 3 5 2 6 2 6 1 3 4 5 4 4 3 3\n",
      " 3 4 4 1 1 2 5 2 6 2 6 6 5 3 6 6 4 2 6 3 6 5 3 1 6 6 1 4 1 6 3 4 1 6 2 6 2\n",
      " 6 5 5 3 5 5 6 2 6 4 6 2 6 4 4 3 5 2 6 4 6 2 3 1 6 4 5 5 2 6 4 5 2 6 5 1 5\n",
      " 5 5 4 1 3 4 2 3 4 2 6 2 6 6 3 5 3 1 6 2 5 6 6 3 1 5 1 2 5 2 2 4 2 2 2 6 2\n",
      " 6 4 1 1 1 3 4 2 5 5 1 4 1 2 3 4 4 3 2 3 5 1 2 1 2 1 4 3 1 4 2 3 3 5 5 5 3\n",
      " 3]\n",
      "{'1': 163, '2': 152, '3': 177, '4': 168, '5': 176, '6': 164}\n"
     ]
    }
   ],
   "source": [
    "import numpy as np #Ex.1\n",
    "import matplotlib.pyplot as plt\n",
    "\n",
    "dice = np.random.randint(1,7,size=1000) # 1,000 pseudorandom outcomes of a die roll are assigned to dice\n",
    "outcomes = (str(dice))\n",
    "poss = {'1':0,'2':0,'3':0,'4':0,'5':0,'6':0} # created dictionary to store outcomes for each die roll\n",
    "\n",
    "for item in outcomes:\n",
    "    for key in poss:# used for loops to iterate over the random die rolls created by randint\n",
    "        if item == key:\n",
    "            poss[key] += 1 # added to the dictionary values\n",
    "\n",
    "print(dice) # the numpy array below contains the simulated die rolls\n",
    "print(poss) # the dictionary containing sum of outcomes for 1-6"
   ]
  },
  {
   "cell_type": "markdown",
   "metadata": {},
   "source": [
    "### Ex. 2 Bar Chart Showing Die Rolls\n",
    "\n",
    "The bar chart visualises the outcomes of 1000 rolls of a die.  It is apparent that the no. of times each value (1-6) occured are quite evenly spread. Each value has an equal probability of 1/6 on each roll, which explains the distribution in the chart. (Math Stack Exchange)"
   ]
  },
  {
   "cell_type": "code",
   "execution_count": 12,
   "metadata": {},
   "outputs": [
    {
     "data": {
      "image/png": "[encoded data removed]",
      "text/plain": [
       "<Figure size 432x288 with 1 Axes>"
      ]
     },
     "metadata": {},
     "output_type": "display_data"
    }
   ],
   "source": [
    "# Ex. 2\n",
    "name = ['one','two','three','four','five','six'] # x-axis labels\n",
    "\n",
    "values = list(poss.values()) # values for each die roll\n",
    "plt.xlabel('possible outcomes')\n",
    "plt.ylabel('no.of times')\n",
    "\n",
    "plt.bar(range(len(poss)),values,tick_label=name)\n",
    "plt.show()"
   ]
  },
  {
   "cell_type": "markdown",
   "metadata": {},
   "source": [
    "The standard deviation is a useful measure of how closely the results are spread around the mean (Statistics Canada).  The std dev here was low - only 11.42 - which again shows that the spread is largely even between values on the die."
   ]
  },
  {
   "cell_type": "code",
   "execution_count": 14,
   "metadata": {},
   "outputs": [
    {
     "name": "stdout",
     "output_type": "stream",
     "text": [
      "8.478731561317938\n"
     ]
    }
   ],
   "source": [
    "\n",
    "standard_deviation = np.std(values) # numpy method to calculate std dev\n",
    "print(standard_deviation)\n",
    "\n",
    "\n",
    "\n"
   ]
  },
  {
   "cell_type": "markdown",
   "metadata": {},
   "source": [
    "#### Uniform Distribution\n",
    "\n",
    "The random_sample method is used below to create an imaginary dataset containing 100 numbers, where the numbers represent tiny beetles measuring 0.1cm -1cm in diameter.  random_sample uses the 'uniform distribution' in which each random number within the range (0-1) has an equal probability of occurence (McLoughlin, I)."
   ]
  },
  {
   "cell_type": "code",
   "execution_count": 30,
   "metadata": {},
   "outputs": [],
   "source": [
    "x = (np.random.random_sample((100)))\n",
    "# creates a one-dimensional array (1 row) of 100 random numbers between 0-1.\n"
   ]
  },
  {
   "cell_type": "markdown",
   "metadata": {},
   "source": [
    "#### Histograms \n",
    "\n",
    "Histograms can be used to show one-dimensional continuous data e.g. histogram below. One-dimensional means that the data is contained in a single row, which has only one vector (direction) and can be indexed with a single value. Continuous data provides measurements of a single characteristic within a range. (Microsoft.com) (McLoughlin, I)"
   ]
  },
  {
   "cell_type": "code",
   "execution_count": 33,
   "metadata": {},
   "outputs": [
    {
     "data": {
      "image/png": "[encoded data removed]",
      "text/plain": [
       "<Figure size 432x288 with 1 Axes>"
      ]
     },
     "metadata": {},
     "output_type": "display_data"
    }
   ],
   "source": [
    "plt.xlabel('size in cm')\n",
    "plt.ylabel('No. of Beetles')\n",
    "plt.title('Beetle Size')\n",
    "plt.hist(x,bins=10) \n",
    "plt.show()"
   ]
  },
  {
   "cell_type": "code",
   "execution_count": 36,
   "metadata": {},
   "outputs": [
    {
     "name": "stdout",
     "output_type": "stream",
     "text": [
      "[0.01465624 0.01570398 0.02853051 0.04029533 0.06831403 0.07081384\n",
      " 0.07202534 0.0740968  0.08024116 0.08858435 0.11751274 0.12700792\n",
      " 0.13817475 0.14971409 0.15123495 0.15281564 0.16065825 0.16648353\n",
      " 0.17104364 0.17559266 0.17926902 0.18315438 0.18399625 0.21930242\n",
      " 0.23626321 0.23691663 0.23819321 0.26020434 0.26525188 0.27087631\n",
      " 0.2735443  0.27774886 0.28088454 0.28546728 0.28916248 0.29033558\n",
      " 0.29273207 0.30642343 0.33013917 0.33824906 0.33869404 0.34262045\n",
      " 0.3610068  0.36730848 0.37426208 0.38608209 0.40505944 0.42695716\n",
      " 0.43666449 0.44527219 0.46211115 0.47072997 0.48000977 0.48762297\n",
      " 0.50193673 0.50727321 0.51097923 0.5205042  0.52471415 0.54064923\n",
      " 0.55888451 0.55901738 0.60167942 0.61607944 0.61630811 0.6185301\n",
      " 0.63607186 0.65168272 0.65769579 0.67007892 0.67008613 0.69738835\n",
      " 0.70165359 0.70445427 0.72637043 0.73703451 0.74569171 0.74723236\n",
      " 0.75402146 0.75639498 0.75659703 0.78111578 0.80382787 0.8096515\n",
      " 0.81541816 0.82655167 0.83628365 0.86117047 0.87507239 0.87603773\n",
      " 0.91844809 0.92259515 0.9309743  0.93287391 0.93345367 0.94470508\n",
      " 0.95824326 0.96314277 0.97504285 0.98002725]\n",
      "0.4621111468655609\n"
     ]
    }
   ],
   "source": [
    "print(np.sort(x))\n",
    "\n",
    "print(x[50]) #one-dimensional data can be accessed with a single index"
   ]
  },
  {
   "cell_type": "code",
   "execution_count": null,
   "metadata": {},
   "outputs": [],
   "source": []
  }
 ],
 "metadata": {
  "kernelspec": {
   "display_name": "Python 3",
   "language": "python",
   "name": "python3"
  },
  "language_info": {
   "codemirror_mode": {
    "name": "ipython",
    "version": 3
   },
   "file_extension": ".py",
   "mimetype": "text/x-python",
   "name": "python",
   "nbconvert_exporter": "python",
   "pygments_lexer": "ipython3",
   "version": "3.6.5"
  }
 },
 "nbformat": 4,
 "nbformat_minor": 2
}
